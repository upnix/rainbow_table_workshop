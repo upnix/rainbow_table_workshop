{
 "cells": [
  {
   "cell_type": "markdown",
   "id": "b979c806",
   "metadata": {
    "slideshow": {
     "slide_type": "slide"
    }
   },
   "source": [
    "# Background"
   ]
  },
  {
   "cell_type": "markdown",
   "id": "84326626",
   "metadata": {
    "slideshow": {
     "slide_type": "notes"
    }
   },
   "source": [
    "* Before we talk about Rainbow tables I'd like to first talk about three key pieces of background information -"
   ]
  },
  {
   "cell_type": "markdown",
   "id": "dc6480fb",
   "metadata": {
    "slideshow": {
     "slide_type": "fragment"
    }
   },
   "source": [
    "1. What is a key space?\n",
    "2. What is a cryptographic hash?\n",
    "3. How can a website use a cryptographic hash to protect your password?"
   ]
  },
  {
   "cell_type": "markdown",
   "id": "d91d929c",
   "metadata": {
    "slideshow": {
     "slide_type": "slide"
    }
   },
   "source": [
    "## 1. What is a key space?"
   ]
  },
  {
   "cell_type": "markdown",
   "id": "c6e0d0f0",
   "metadata": {
    "cell_style": "center",
    "slideshow": {
     "slide_type": "subslide"
    }
   },
   "source": [
    "*You found your old phone!*\n",
    "![Cell phone PIN pad](clipart/PhonePinPad.jpeg)"
   ]
  },
  {
   "cell_type": "markdown",
   "id": "d15a8b32",
   "metadata": {
    "cell_style": "center",
    "slideshow": {
     "slide_type": "notes"
    }
   },
   "source": [
    "* You find your old phone in the back of your closet. A time capsule to your younger self, you're excited to see what's on it. You turn it on...\n",
    "* ... but you've forgotten the PIN.\n",
    "* You know back then you weren't very security conscious, and you're pretty sure the PIN you used was only two digits long. So you're going to guess your old PIN using \"brute force\" - trying every possible combination.\n",
    "* So this is how you might start...\n",
    "* Starting with a PIN that has a leading digit of '0', you try every possible digit in the second position - 0 through 9. Assuming you didn't find the correct PIN when '0' was the first digit...\n",
    "* You now move to a leading digit of '1', and again try every possible digit in the second position - 0 through 9.\n",
    "* This pattern makes it easy to know how many possible two-digit PINs there are..."
   ]
  },
  {
   "cell_type": "markdown",
   "id": "2f1a9432",
   "metadata": {
    "cell_style": "center",
    "slideshow": {
     "slide_type": "fragment"
    }
   },
   "source": [
    "But you forgot the PIN you used..."
   ]
  },
  {
   "cell_type": "markdown",
   "id": "4b01906c",
   "metadata": {
    "cell_style": "split",
    "slideshow": {
     "slide_type": "fragment"
    }
   },
   "source": [
    "![Leading zero PINs](clipart/TwoDigitPIN_LeadingZero.png)"
   ]
  },
  {
   "cell_type": "markdown",
   "id": "4c236312",
   "metadata": {
    "cell_style": "split",
    "slideshow": {
     "slide_type": "fragment"
    }
   },
   "source": [
    "![Leading one PINs](clipart/TwoDigitPIN_LeadingOne.png)"
   ]
  },
  {
   "cell_type": "markdown",
   "id": "b90b8193",
   "metadata": {
    "cell_style": "split",
    "slideshow": {
     "slide_type": "subslide"
    }
   },
   "source": [
    "*How many two-digit PINs are possible?*\n",
    "![Cell phone PIN pad](clipart/PhonePinPad.jpeg)"
   ]
  },
  {
   "cell_type": "markdown",
   "id": "fe4233f9",
   "metadata": {
    "cell_style": "split",
    "slideshow": {
     "slide_type": "-"
    }
   },
   "source": [
    "![Two digit PIN possibilities](clipart/TwoDigitPINs.png)"
   ]
  },
  {
   "cell_type": "markdown",
   "id": "dc4568c7",
   "metadata": {
    "slideshow": {
     "slide_type": "notes"
    }
   },
   "source": [
    "* For each of the 10 possible digits for the first position, there are 10 possible digits for the second position.\n",
    "* Multiplying 10 x 10 tells us how many two-digit PINs exist. 100....\n",
    "* For fun, we can use Python to generate each one of these PINs for us.\n",
    "* (Explain the code?)"
   ]
  },
  {
   "cell_type": "code",
   "execution_count": 22,
   "id": "8b08854b",
   "metadata": {
    "ExecuteTime": {
     "end_time": "2023-04-03T23:44:20.559003Z",
     "start_time": "2023-04-03T23:44:20.527684Z"
    },
    "code_folding": [],
    "scrolled": true,
    "slideshow": {
     "slide_type": "fragment"
    }
   },
   "outputs": [
    {
     "data": {
      "text/html": [
       "<table border=\"1\" class=\"dataframe\">\n",
       "  <thead>\n",
       "    <tr style=\"text-align: right;\">\n",
       "      <th></th>\n",
       "      <th>leading_0</th>\n",
       "      <th>leading_1</th>\n",
       "      <th>leading_2</th>\n",
       "      <th>leading_3</th>\n",
       "      <th>leading_4</th>\n",
       "      <th>leading_5</th>\n",
       "      <th>leading_6</th>\n",
       "      <th>leading_7</th>\n",
       "      <th>leading_8</th>\n",
       "      <th>leading_9</th>\n",
       "    </tr>\n",
       "  </thead>\n",
       "  <tbody>\n",
       "    <tr>\n",
       "      <th>0</th>\n",
       "      <td>00</td>\n",
       "      <td>10</td>\n",
       "      <td>20</td>\n",
       "      <td>30</td>\n",
       "      <td>40</td>\n",
       "      <td>50</td>\n",
       "      <td>60</td>\n",
       "      <td>70</td>\n",
       "      <td>80</td>\n",
       "      <td>90</td>\n",
       "    </tr>\n",
       "    <tr>\n",
       "      <th>1</th>\n",
       "      <td>01</td>\n",
       "      <td>11</td>\n",
       "      <td>21</td>\n",
       "      <td>31</td>\n",
       "      <td>41</td>\n",
       "      <td>51</td>\n",
       "      <td>61</td>\n",
       "      <td>71</td>\n",
       "      <td>81</td>\n",
       "      <td>91</td>\n",
       "    </tr>\n",
       "    <tr>\n",
       "      <th>2</th>\n",
       "      <td>02</td>\n",
       "      <td>12</td>\n",
       "      <td>22</td>\n",
       "      <td>32</td>\n",
       "      <td>42</td>\n",
       "      <td>52</td>\n",
       "      <td>62</td>\n",
       "      <td>72</td>\n",
       "      <td>82</td>\n",
       "      <td>92</td>\n",
       "    </tr>\n",
       "    <tr>\n",
       "      <th>3</th>\n",
       "      <td>03</td>\n",
       "      <td>13</td>\n",
       "      <td>23</td>\n",
       "      <td>33</td>\n",
       "      <td>43</td>\n",
       "      <td>53</td>\n",
       "      <td>63</td>\n",
       "      <td>73</td>\n",
       "      <td>83</td>\n",
       "      <td>93</td>\n",
       "    </tr>\n",
       "    <tr>\n",
       "      <th>4</th>\n",
       "      <td>04</td>\n",
       "      <td>14</td>\n",
       "      <td>24</td>\n",
       "      <td>34</td>\n",
       "      <td>44</td>\n",
       "      <td>54</td>\n",
       "      <td>64</td>\n",
       "      <td>74</td>\n",
       "      <td>84</td>\n",
       "      <td>94</td>\n",
       "    </tr>\n",
       "    <tr>\n",
       "      <th>5</th>\n",
       "      <td>05</td>\n",
       "      <td>15</td>\n",
       "      <td>25</td>\n",
       "      <td>35</td>\n",
       "      <td>45</td>\n",
       "      <td>55</td>\n",
       "      <td>65</td>\n",
       "      <td>75</td>\n",
       "      <td>85</td>\n",
       "      <td>95</td>\n",
       "    </tr>\n",
       "    <tr>\n",
       "      <th>6</th>\n",
       "      <td>06</td>\n",
       "      <td>16</td>\n",
       "      <td>26</td>\n",
       "      <td>36</td>\n",
       "      <td>46</td>\n",
       "      <td>56</td>\n",
       "      <td>66</td>\n",
       "      <td>76</td>\n",
       "      <td>86</td>\n",
       "      <td>96</td>\n",
       "    </tr>\n",
       "    <tr>\n",
       "      <th>7</th>\n",
       "      <td>07</td>\n",
       "      <td>17</td>\n",
       "      <td>27</td>\n",
       "      <td>37</td>\n",
       "      <td>47</td>\n",
       "      <td>57</td>\n",
       "      <td>67</td>\n",
       "      <td>77</td>\n",
       "      <td>87</td>\n",
       "      <td>97</td>\n",
       "    </tr>\n",
       "    <tr>\n",
       "      <th>8</th>\n",
       "      <td>08</td>\n",
       "      <td>18</td>\n",
       "      <td>28</td>\n",
       "      <td>38</td>\n",
       "      <td>48</td>\n",
       "      <td>58</td>\n",
       "      <td>68</td>\n",
       "      <td>78</td>\n",
       "      <td>88</td>\n",
       "      <td>98</td>\n",
       "    </tr>\n",
       "    <tr>\n",
       "      <th>9</th>\n",
       "      <td>09</td>\n",
       "      <td>19</td>\n",
       "      <td>29</td>\n",
       "      <td>39</td>\n",
       "      <td>49</td>\n",
       "      <td>59</td>\n",
       "      <td>69</td>\n",
       "      <td>79</td>\n",
       "      <td>89</td>\n",
       "      <td>99</td>\n",
       "    </tr>\n",
       "  </tbody>\n",
       "</table>"
      ],
      "text/plain": [
       "<IPython.core.display.HTML object>"
      ]
     },
     "metadata": {},
     "output_type": "display_data"
    }
   ],
   "source": [
    "import pandas as pd\n",
    "from IPython.display import display, HTML\n",
    "\n",
    "twoDigitPINs = pd.DataFrame()\n",
    "for a in range(0,10):\n",
    "    setOfTenPINs = list()\n",
    "    for b in range(0,10):\n",
    "        setOfTenPINs.append(str(a) + str(b))\n",
    "        #print(str(a) + str(b))\n",
    "    twoDigitPINs.insert(len(twoDigitPINs.columns), \"leading_\"+str(a),setOfTenPINs)\n",
    "\n",
    "display(HTML(twoDigitPINs.to_html()))\n",
    "    "
   ]
  },
  {
   "cell_type": "code",
   "execution_count": 26,
   "id": "54d3ba0d",
   "metadata": {
    "ExecuteTime": {
     "end_time": "2023-04-06T19:04:08.558642Z",
     "start_time": "2023-04-06T19:04:08.395995Z"
    }
   },
   "outputs": [
    {
     "data": {
      "text/html": [
       "<table border=\"1\" class=\"dataframe\">\n",
       "  <thead>\n",
       "    <tr style=\"text-align: right;\">\n",
       "      <th></th>\n",
       "      <th>leading_00</th>\n",
       "      <th>leading_01</th>\n",
       "      <th>leading_02</th>\n",
       "      <th>leading_03</th>\n",
       "      <th>leading_04</th>\n",
       "      <th>leading_05</th>\n",
       "      <th>leading_06</th>\n",
       "      <th>leading_07</th>\n",
       "      <th>leading_08</th>\n",
       "      <th>leading_09</th>\n",
       "      <th>leading_10</th>\n",
       "      <th>leading_11</th>\n",
       "      <th>leading_12</th>\n",
       "      <th>leading_13</th>\n",
       "      <th>leading_14</th>\n",
       "      <th>leading_15</th>\n",
       "      <th>leading_16</th>\n",
       "      <th>leading_17</th>\n",
       "      <th>leading_18</th>\n",
       "      <th>leading_19</th>\n",
       "      <th>leading_20</th>\n",
       "      <th>leading_21</th>\n",
       "      <th>leading_22</th>\n",
       "      <th>leading_23</th>\n",
       "      <th>leading_24</th>\n",
       "      <th>leading_25</th>\n",
       "      <th>leading_26</th>\n",
       "      <th>leading_27</th>\n",
       "      <th>leading_28</th>\n",
       "      <th>leading_29</th>\n",
       "      <th>leading_30</th>\n",
       "      <th>leading_31</th>\n",
       "      <th>leading_32</th>\n",
       "      <th>leading_33</th>\n",
       "      <th>leading_34</th>\n",
       "      <th>leading_35</th>\n",
       "      <th>leading_36</th>\n",
       "      <th>leading_37</th>\n",
       "      <th>leading_38</th>\n",
       "      <th>leading_39</th>\n",
       "      <th>leading_40</th>\n",
       "      <th>leading_41</th>\n",
       "      <th>leading_42</th>\n",
       "      <th>leading_43</th>\n",
       "      <th>leading_44</th>\n",
       "      <th>leading_45</th>\n",
       "      <th>leading_46</th>\n",
       "      <th>leading_47</th>\n",
       "      <th>leading_48</th>\n",
       "      <th>leading_49</th>\n",
       "      <th>leading_50</th>\n",
       "      <th>leading_51</th>\n",
       "      <th>leading_52</th>\n",
       "      <th>leading_53</th>\n",
       "      <th>leading_54</th>\n",
       "      <th>leading_55</th>\n",
       "      <th>leading_56</th>\n",
       "      <th>leading_57</th>\n",
       "      <th>leading_58</th>\n",
       "      <th>leading_59</th>\n",
       "      <th>leading_60</th>\n",
       "      <th>leading_61</th>\n",
       "      <th>leading_62</th>\n",
       "      <th>leading_63</th>\n",
       "      <th>leading_64</th>\n",
       "      <th>leading_65</th>\n",
       "      <th>leading_66</th>\n",
       "      <th>leading_67</th>\n",
       "      <th>leading_68</th>\n",
       "      <th>leading_69</th>\n",
       "      <th>leading_70</th>\n",
       "      <th>leading_71</th>\n",
       "      <th>leading_72</th>\n",
       "      <th>leading_73</th>\n",
       "      <th>leading_74</th>\n",
       "      <th>leading_75</th>\n",
       "      <th>leading_76</th>\n",
       "      <th>leading_77</th>\n",
       "      <th>leading_78</th>\n",
       "      <th>leading_79</th>\n",
       "      <th>leading_80</th>\n",
       "      <th>leading_81</th>\n",
       "      <th>leading_82</th>\n",
       "      <th>leading_83</th>\n",
       "      <th>leading_84</th>\n",
       "      <th>leading_85</th>\n",
       "      <th>leading_86</th>\n",
       "      <th>leading_87</th>\n",
       "      <th>leading_88</th>\n",
       "      <th>leading_89</th>\n",
       "      <th>leading_90</th>\n",
       "      <th>leading_91</th>\n",
       "      <th>leading_92</th>\n",
       "      <th>leading_93</th>\n",
       "      <th>leading_94</th>\n",
       "      <th>leading_95</th>\n",
       "      <th>leading_96</th>\n",
       "      <th>leading_97</th>\n",
       "      <th>leading_98</th>\n",
       "      <th>leading_99</th>\n",
       "    </tr>\n",
       "  </thead>\n",
       "  <tbody>\n",
       "    <tr>\n",
       "      <th>0</th>\n",
       "      <td>000</td>\n",
       "      <td>010</td>\n",
       "      <td>020</td>\n",
       "      <td>030</td>\n",
       "      <td>040</td>\n",
       "      <td>050</td>\n",
       "      <td>060</td>\n",
       "      <td>070</td>\n",
       "      <td>080</td>\n",
       "      <td>090</td>\n",
       "      <td>100</td>\n",
       "      <td>110</td>\n",
       "      <td>120</td>\n",
       "      <td>130</td>\n",
       "      <td>140</td>\n",
       "      <td>150</td>\n",
       "      <td>160</td>\n",
       "      <td>170</td>\n",
       "      <td>180</td>\n",
       "      <td>190</td>\n",
       "      <td>200</td>\n",
       "      <td>210</td>\n",
       "      <td>220</td>\n",
       "      <td>230</td>\n",
       "      <td>240</td>\n",
       "      <td>250</td>\n",
       "      <td>260</td>\n",
       "      <td>270</td>\n",
       "      <td>280</td>\n",
       "      <td>290</td>\n",
       "      <td>300</td>\n",
       "      <td>310</td>\n",
       "      <td>320</td>\n",
       "      <td>330</td>\n",
       "      <td>340</td>\n",
       "      <td>350</td>\n",
       "      <td>360</td>\n",
       "      <td>370</td>\n",
       "      <td>380</td>\n",
       "      <td>390</td>\n",
       "      <td>400</td>\n",
       "      <td>410</td>\n",
       "      <td>420</td>\n",
       "      <td>430</td>\n",
       "      <td>440</td>\n",
       "      <td>450</td>\n",
       "      <td>460</td>\n",
       "      <td>470</td>\n",
       "      <td>480</td>\n",
       "      <td>490</td>\n",
       "      <td>500</td>\n",
       "      <td>510</td>\n",
       "      <td>520</td>\n",
       "      <td>530</td>\n",
       "      <td>540</td>\n",
       "      <td>550</td>\n",
       "      <td>560</td>\n",
       "      <td>570</td>\n",
       "      <td>580</td>\n",
       "      <td>590</td>\n",
       "      <td>600</td>\n",
       "      <td>610</td>\n",
       "      <td>620</td>\n",
       "      <td>630</td>\n",
       "      <td>640</td>\n",
       "      <td>650</td>\n",
       "      <td>660</td>\n",
       "      <td>670</td>\n",
       "      <td>680</td>\n",
       "      <td>690</td>\n",
       "      <td>700</td>\n",
       "      <td>710</td>\n",
       "      <td>720</td>\n",
       "      <td>730</td>\n",
       "      <td>740</td>\n",
       "      <td>750</td>\n",
       "      <td>760</td>\n",
       "      <td>770</td>\n",
       "      <td>780</td>\n",
       "      <td>790</td>\n",
       "      <td>800</td>\n",
       "      <td>810</td>\n",
       "      <td>820</td>\n",
       "      <td>830</td>\n",
       "      <td>840</td>\n",
       "      <td>850</td>\n",
       "      <td>860</td>\n",
       "      <td>870</td>\n",
       "      <td>880</td>\n",
       "      <td>890</td>\n",
       "      <td>900</td>\n",
       "      <td>910</td>\n",
       "      <td>920</td>\n",
       "      <td>930</td>\n",
       "      <td>940</td>\n",
       "      <td>950</td>\n",
       "      <td>960</td>\n",
       "      <td>970</td>\n",
       "      <td>980</td>\n",
       "      <td>990</td>\n",
       "    </tr>\n",
       "    <tr>\n",
       "      <th>1</th>\n",
       "      <td>001</td>\n",
       "      <td>011</td>\n",
       "      <td>021</td>\n",
       "      <td>031</td>\n",
       "      <td>041</td>\n",
       "      <td>051</td>\n",
       "      <td>061</td>\n",
       "      <td>071</td>\n",
       "      <td>081</td>\n",
       "      <td>091</td>\n",
       "      <td>101</td>\n",
       "      <td>111</td>\n",
       "      <td>121</td>\n",
       "      <td>131</td>\n",
       "      <td>141</td>\n",
       "      <td>151</td>\n",
       "      <td>161</td>\n",
       "      <td>171</td>\n",
       "      <td>181</td>\n",
       "      <td>191</td>\n",
       "      <td>201</td>\n",
       "      <td>211</td>\n",
       "      <td>221</td>\n",
       "      <td>231</td>\n",
       "      <td>241</td>\n",
       "      <td>251</td>\n",
       "      <td>261</td>\n",
       "      <td>271</td>\n",
       "      <td>281</td>\n",
       "      <td>291</td>\n",
       "      <td>301</td>\n",
       "      <td>311</td>\n",
       "      <td>321</td>\n",
       "      <td>331</td>\n",
       "      <td>341</td>\n",
       "      <td>351</td>\n",
       "      <td>361</td>\n",
       "      <td>371</td>\n",
       "      <td>381</td>\n",
       "      <td>391</td>\n",
       "      <td>401</td>\n",
       "      <td>411</td>\n",
       "      <td>421</td>\n",
       "      <td>431</td>\n",
       "      <td>441</td>\n",
       "      <td>451</td>\n",
       "      <td>461</td>\n",
       "      <td>471</td>\n",
       "      <td>481</td>\n",
       "      <td>491</td>\n",
       "      <td>501</td>\n",
       "      <td>511</td>\n",
       "      <td>521</td>\n",
       "      <td>531</td>\n",
       "      <td>541</td>\n",
       "      <td>551</td>\n",
       "      <td>561</td>\n",
       "      <td>571</td>\n",
       "      <td>581</td>\n",
       "      <td>591</td>\n",
       "      <td>601</td>\n",
       "      <td>611</td>\n",
       "      <td>621</td>\n",
       "      <td>631</td>\n",
       "      <td>641</td>\n",
       "      <td>651</td>\n",
       "      <td>661</td>\n",
       "      <td>671</td>\n",
       "      <td>681</td>\n",
       "      <td>691</td>\n",
       "      <td>701</td>\n",
       "      <td>711</td>\n",
       "      <td>721</td>\n",
       "      <td>731</td>\n",
       "      <td>741</td>\n",
       "      <td>751</td>\n",
       "      <td>761</td>\n",
       "      <td>771</td>\n",
       "      <td>781</td>\n",
       "      <td>791</td>\n",
       "      <td>801</td>\n",
       "      <td>811</td>\n",
       "      <td>821</td>\n",
       "      <td>831</td>\n",
       "      <td>841</td>\n",
       "      <td>851</td>\n",
       "      <td>861</td>\n",
       "      <td>871</td>\n",
       "      <td>881</td>\n",
       "      <td>891</td>\n",
       "      <td>901</td>\n",
       "      <td>911</td>\n",
       "      <td>921</td>\n",
       "      <td>931</td>\n",
       "      <td>941</td>\n",
       "      <td>951</td>\n",
       "      <td>961</td>\n",
       "      <td>971</td>\n",
       "      <td>981</td>\n",
       "      <td>991</td>\n",
       "    </tr>\n",
       "    <tr>\n",
       "      <th>2</th>\n",
       "      <td>002</td>\n",
       "      <td>012</td>\n",
       "      <td>022</td>\n",
       "      <td>032</td>\n",
       "      <td>042</td>\n",
       "      <td>052</td>\n",
       "      <td>062</td>\n",
       "      <td>072</td>\n",
       "      <td>082</td>\n",
       "      <td>092</td>\n",
       "      <td>102</td>\n",
       "      <td>112</td>\n",
       "      <td>122</td>\n",
       "      <td>132</td>\n",
       "      <td>142</td>\n",
       "      <td>152</td>\n",
       "      <td>162</td>\n",
       "      <td>172</td>\n",
       "      <td>182</td>\n",
       "      <td>192</td>\n",
       "      <td>202</td>\n",
       "      <td>212</td>\n",
       "      <td>222</td>\n",
       "      <td>232</td>\n",
       "      <td>242</td>\n",
       "      <td>252</td>\n",
       "      <td>262</td>\n",
       "      <td>272</td>\n",
       "      <td>282</td>\n",
       "      <td>292</td>\n",
       "      <td>302</td>\n",
       "      <td>312</td>\n",
       "      <td>322</td>\n",
       "      <td>332</td>\n",
       "      <td>342</td>\n",
       "      <td>352</td>\n",
       "      <td>362</td>\n",
       "      <td>372</td>\n",
       "      <td>382</td>\n",
       "      <td>392</td>\n",
       "      <td>402</td>\n",
       "      <td>412</td>\n",
       "      <td>422</td>\n",
       "      <td>432</td>\n",
       "      <td>442</td>\n",
       "      <td>452</td>\n",
       "      <td>462</td>\n",
       "      <td>472</td>\n",
       "      <td>482</td>\n",
       "      <td>492</td>\n",
       "      <td>502</td>\n",
       "      <td>512</td>\n",
       "      <td>522</td>\n",
       "      <td>532</td>\n",
       "      <td>542</td>\n",
       "      <td>552</td>\n",
       "      <td>562</td>\n",
       "      <td>572</td>\n",
       "      <td>582</td>\n",
       "      <td>592</td>\n",
       "      <td>602</td>\n",
       "      <td>612</td>\n",
       "      <td>622</td>\n",
       "      <td>632</td>\n",
       "      <td>642</td>\n",
       "      <td>652</td>\n",
       "      <td>662</td>\n",
       "      <td>672</td>\n",
       "      <td>682</td>\n",
       "      <td>692</td>\n",
       "      <td>702</td>\n",
       "      <td>712</td>\n",
       "      <td>722</td>\n",
       "      <td>732</td>\n",
       "      <td>742</td>\n",
       "      <td>752</td>\n",
       "      <td>762</td>\n",
       "      <td>772</td>\n",
       "      <td>782</td>\n",
       "      <td>792</td>\n",
       "      <td>802</td>\n",
       "      <td>812</td>\n",
       "      <td>822</td>\n",
       "      <td>832</td>\n",
       "      <td>842</td>\n",
       "      <td>852</td>\n",
       "      <td>862</td>\n",
       "      <td>872</td>\n",
       "      <td>882</td>\n",
       "      <td>892</td>\n",
       "      <td>902</td>\n",
       "      <td>912</td>\n",
       "      <td>922</td>\n",
       "      <td>932</td>\n",
       "      <td>942</td>\n",
       "      <td>952</td>\n",
       "      <td>962</td>\n",
       "      <td>972</td>\n",
       "      <td>982</td>\n",
       "      <td>992</td>\n",
       "    </tr>\n",
       "    <tr>\n",
       "      <th>3</th>\n",
       "      <td>003</td>\n",
       "      <td>013</td>\n",
       "      <td>023</td>\n",
       "      <td>033</td>\n",
       "      <td>043</td>\n",
       "      <td>053</td>\n",
       "      <td>063</td>\n",
       "      <td>073</td>\n",
       "      <td>083</td>\n",
       "      <td>093</td>\n",
       "      <td>103</td>\n",
       "      <td>113</td>\n",
       "      <td>123</td>\n",
       "      <td>133</td>\n",
       "      <td>143</td>\n",
       "      <td>153</td>\n",
       "      <td>163</td>\n",
       "      <td>173</td>\n",
       "      <td>183</td>\n",
       "      <td>193</td>\n",
       "      <td>203</td>\n",
       "      <td>213</td>\n",
       "      <td>223</td>\n",
       "      <td>233</td>\n",
       "      <td>243</td>\n",
       "      <td>253</td>\n",
       "      <td>263</td>\n",
       "      <td>273</td>\n",
       "      <td>283</td>\n",
       "      <td>293</td>\n",
       "      <td>303</td>\n",
       "      <td>313</td>\n",
       "      <td>323</td>\n",
       "      <td>333</td>\n",
       "      <td>343</td>\n",
       "      <td>353</td>\n",
       "      <td>363</td>\n",
       "      <td>373</td>\n",
       "      <td>383</td>\n",
       "      <td>393</td>\n",
       "      <td>403</td>\n",
       "      <td>413</td>\n",
       "      <td>423</td>\n",
       "      <td>433</td>\n",
       "      <td>443</td>\n",
       "      <td>453</td>\n",
       "      <td>463</td>\n",
       "      <td>473</td>\n",
       "      <td>483</td>\n",
       "      <td>493</td>\n",
       "      <td>503</td>\n",
       "      <td>513</td>\n",
       "      <td>523</td>\n",
       "      <td>533</td>\n",
       "      <td>543</td>\n",
       "      <td>553</td>\n",
       "      <td>563</td>\n",
       "      <td>573</td>\n",
       "      <td>583</td>\n",
       "      <td>593</td>\n",
       "      <td>603</td>\n",
       "      <td>613</td>\n",
       "      <td>623</td>\n",
       "      <td>633</td>\n",
       "      <td>643</td>\n",
       "      <td>653</td>\n",
       "      <td>663</td>\n",
       "      <td>673</td>\n",
       "      <td>683</td>\n",
       "      <td>693</td>\n",
       "      <td>703</td>\n",
       "      <td>713</td>\n",
       "      <td>723</td>\n",
       "      <td>733</td>\n",
       "      <td>743</td>\n",
       "      <td>753</td>\n",
       "      <td>763</td>\n",
       "      <td>773</td>\n",
       "      <td>783</td>\n",
       "      <td>793</td>\n",
       "      <td>803</td>\n",
       "      <td>813</td>\n",
       "      <td>823</td>\n",
       "      <td>833</td>\n",
       "      <td>843</td>\n",
       "      <td>853</td>\n",
       "      <td>863</td>\n",
       "      <td>873</td>\n",
       "      <td>883</td>\n",
       "      <td>893</td>\n",
       "      <td>903</td>\n",
       "      <td>913</td>\n",
       "      <td>923</td>\n",
       "      <td>933</td>\n",
       "      <td>943</td>\n",
       "      <td>953</td>\n",
       "      <td>963</td>\n",
       "      <td>973</td>\n",
       "      <td>983</td>\n",
       "      <td>993</td>\n",
       "    </tr>\n",
       "    <tr>\n",
       "      <th>4</th>\n",
       "      <td>004</td>\n",
       "      <td>014</td>\n",
       "      <td>024</td>\n",
       "      <td>034</td>\n",
       "      <td>044</td>\n",
       "      <td>054</td>\n",
       "      <td>064</td>\n",
       "      <td>074</td>\n",
       "      <td>084</td>\n",
       "      <td>094</td>\n",
       "      <td>104</td>\n",
       "      <td>114</td>\n",
       "      <td>124</td>\n",
       "      <td>134</td>\n",
       "      <td>144</td>\n",
       "      <td>154</td>\n",
       "      <td>164</td>\n",
       "      <td>174</td>\n",
       "      <td>184</td>\n",
       "      <td>194</td>\n",
       "      <td>204</td>\n",
       "      <td>214</td>\n",
       "      <td>224</td>\n",
       "      <td>234</td>\n",
       "      <td>244</td>\n",
       "      <td>254</td>\n",
       "      <td>264</td>\n",
       "      <td>274</td>\n",
       "      <td>284</td>\n",
       "      <td>294</td>\n",
       "      <td>304</td>\n",
       "      <td>314</td>\n",
       "      <td>324</td>\n",
       "      <td>334</td>\n",
       "      <td>344</td>\n",
       "      <td>354</td>\n",
       "      <td>364</td>\n",
       "      <td>374</td>\n",
       "      <td>384</td>\n",
       "      <td>394</td>\n",
       "      <td>404</td>\n",
       "      <td>414</td>\n",
       "      <td>424</td>\n",
       "      <td>434</td>\n",
       "      <td>444</td>\n",
       "      <td>454</td>\n",
       "      <td>464</td>\n",
       "      <td>474</td>\n",
       "      <td>484</td>\n",
       "      <td>494</td>\n",
       "      <td>504</td>\n",
       "      <td>514</td>\n",
       "      <td>524</td>\n",
       "      <td>534</td>\n",
       "      <td>544</td>\n",
       "      <td>554</td>\n",
       "      <td>564</td>\n",
       "      <td>574</td>\n",
       "      <td>584</td>\n",
       "      <td>594</td>\n",
       "      <td>604</td>\n",
       "      <td>614</td>\n",
       "      <td>624</td>\n",
       "      <td>634</td>\n",
       "      <td>644</td>\n",
       "      <td>654</td>\n",
       "      <td>664</td>\n",
       "      <td>674</td>\n",
       "      <td>684</td>\n",
       "      <td>694</td>\n",
       "      <td>704</td>\n",
       "      <td>714</td>\n",
       "      <td>724</td>\n",
       "      <td>734</td>\n",
       "      <td>744</td>\n",
       "      <td>754</td>\n",
       "      <td>764</td>\n",
       "      <td>774</td>\n",
       "      <td>784</td>\n",
       "      <td>794</td>\n",
       "      <td>804</td>\n",
       "      <td>814</td>\n",
       "      <td>824</td>\n",
       "      <td>834</td>\n",
       "      <td>844</td>\n",
       "      <td>854</td>\n",
       "      <td>864</td>\n",
       "      <td>874</td>\n",
       "      <td>884</td>\n",
       "      <td>894</td>\n",
       "      <td>904</td>\n",
       "      <td>914</td>\n",
       "      <td>924</td>\n",
       "      <td>934</td>\n",
       "      <td>944</td>\n",
       "      <td>954</td>\n",
       "      <td>964</td>\n",
       "      <td>974</td>\n",
       "      <td>984</td>\n",
       "      <td>994</td>\n",
       "    </tr>\n",
       "    <tr>\n",
       "      <th>5</th>\n",
       "      <td>005</td>\n",
       "      <td>015</td>\n",
       "      <td>025</td>\n",
       "      <td>035</td>\n",
       "      <td>045</td>\n",
       "      <td>055</td>\n",
       "      <td>065</td>\n",
       "      <td>075</td>\n",
       "      <td>085</td>\n",
       "      <td>095</td>\n",
       "      <td>105</td>\n",
       "      <td>115</td>\n",
       "      <td>125</td>\n",
       "      <td>135</td>\n",
       "      <td>145</td>\n",
       "      <td>155</td>\n",
       "      <td>165</td>\n",
       "      <td>175</td>\n",
       "      <td>185</td>\n",
       "      <td>195</td>\n",
       "      <td>205</td>\n",
       "      <td>215</td>\n",
       "      <td>225</td>\n",
       "      <td>235</td>\n",
       "      <td>245</td>\n",
       "      <td>255</td>\n",
       "      <td>265</td>\n",
       "      <td>275</td>\n",
       "      <td>285</td>\n",
       "      <td>295</td>\n",
       "      <td>305</td>\n",
       "      <td>315</td>\n",
       "      <td>325</td>\n",
       "      <td>335</td>\n",
       "      <td>345</td>\n",
       "      <td>355</td>\n",
       "      <td>365</td>\n",
       "      <td>375</td>\n",
       "      <td>385</td>\n",
       "      <td>395</td>\n",
       "      <td>405</td>\n",
       "      <td>415</td>\n",
       "      <td>425</td>\n",
       "      <td>435</td>\n",
       "      <td>445</td>\n",
       "      <td>455</td>\n",
       "      <td>465</td>\n",
       "      <td>475</td>\n",
       "      <td>485</td>\n",
       "      <td>495</td>\n",
       "      <td>505</td>\n",
       "      <td>515</td>\n",
       "      <td>525</td>\n",
       "      <td>535</td>\n",
       "      <td>545</td>\n",
       "      <td>555</td>\n",
       "      <td>565</td>\n",
       "      <td>575</td>\n",
       "      <td>585</td>\n",
       "      <td>595</td>\n",
       "      <td>605</td>\n",
       "      <td>615</td>\n",
       "      <td>625</td>\n",
       "      <td>635</td>\n",
       "      <td>645</td>\n",
       "      <td>655</td>\n",
       "      <td>665</td>\n",
       "      <td>675</td>\n",
       "      <td>685</td>\n",
       "      <td>695</td>\n",
       "      <td>705</td>\n",
       "      <td>715</td>\n",
       "      <td>725</td>\n",
       "      <td>735</td>\n",
       "      <td>745</td>\n",
       "      <td>755</td>\n",
       "      <td>765</td>\n",
       "      <td>775</td>\n",
       "      <td>785</td>\n",
       "      <td>795</td>\n",
       "      <td>805</td>\n",
       "      <td>815</td>\n",
       "      <td>825</td>\n",
       "      <td>835</td>\n",
       "      <td>845</td>\n",
       "      <td>855</td>\n",
       "      <td>865</td>\n",
       "      <td>875</td>\n",
       "      <td>885</td>\n",
       "      <td>895</td>\n",
       "      <td>905</td>\n",
       "      <td>915</td>\n",
       "      <td>925</td>\n",
       "      <td>935</td>\n",
       "      <td>945</td>\n",
       "      <td>955</td>\n",
       "      <td>965</td>\n",
       "      <td>975</td>\n",
       "      <td>985</td>\n",
       "      <td>995</td>\n",
       "    </tr>\n",
       "    <tr>\n",
       "      <th>6</th>\n",
       "      <td>006</td>\n",
       "      <td>016</td>\n",
       "      <td>026</td>\n",
       "      <td>036</td>\n",
       "      <td>046</td>\n",
       "      <td>056</td>\n",
       "      <td>066</td>\n",
       "      <td>076</td>\n",
       "      <td>086</td>\n",
       "      <td>096</td>\n",
       "      <td>106</td>\n",
       "      <td>116</td>\n",
       "      <td>126</td>\n",
       "      <td>136</td>\n",
       "      <td>146</td>\n",
       "      <td>156</td>\n",
       "      <td>166</td>\n",
       "      <td>176</td>\n",
       "      <td>186</td>\n",
       "      <td>196</td>\n",
       "      <td>206</td>\n",
       "      <td>216</td>\n",
       "      <td>226</td>\n",
       "      <td>236</td>\n",
       "      <td>246</td>\n",
       "      <td>256</td>\n",
       "      <td>266</td>\n",
       "      <td>276</td>\n",
       "      <td>286</td>\n",
       "      <td>296</td>\n",
       "      <td>306</td>\n",
       "      <td>316</td>\n",
       "      <td>326</td>\n",
       "      <td>336</td>\n",
       "      <td>346</td>\n",
       "      <td>356</td>\n",
       "      <td>366</td>\n",
       "      <td>376</td>\n",
       "      <td>386</td>\n",
       "      <td>396</td>\n",
       "      <td>406</td>\n",
       "      <td>416</td>\n",
       "      <td>426</td>\n",
       "      <td>436</td>\n",
       "      <td>446</td>\n",
       "      <td>456</td>\n",
       "      <td>466</td>\n",
       "      <td>476</td>\n",
       "      <td>486</td>\n",
       "      <td>496</td>\n",
       "      <td>506</td>\n",
       "      <td>516</td>\n",
       "      <td>526</td>\n",
       "      <td>536</td>\n",
       "      <td>546</td>\n",
       "      <td>556</td>\n",
       "      <td>566</td>\n",
       "      <td>576</td>\n",
       "      <td>586</td>\n",
       "      <td>596</td>\n",
       "      <td>606</td>\n",
       "      <td>616</td>\n",
       "      <td>626</td>\n",
       "      <td>636</td>\n",
       "      <td>646</td>\n",
       "      <td>656</td>\n",
       "      <td>666</td>\n",
       "      <td>676</td>\n",
       "      <td>686</td>\n",
       "      <td>696</td>\n",
       "      <td>706</td>\n",
       "      <td>716</td>\n",
       "      <td>726</td>\n",
       "      <td>736</td>\n",
       "      <td>746</td>\n",
       "      <td>756</td>\n",
       "      <td>766</td>\n",
       "      <td>776</td>\n",
       "      <td>786</td>\n",
       "      <td>796</td>\n",
       "      <td>806</td>\n",
       "      <td>816</td>\n",
       "      <td>826</td>\n",
       "      <td>836</td>\n",
       "      <td>846</td>\n",
       "      <td>856</td>\n",
       "      <td>866</td>\n",
       "      <td>876</td>\n",
       "      <td>886</td>\n",
       "      <td>896</td>\n",
       "      <td>906</td>\n",
       "      <td>916</td>\n",
       "      <td>926</td>\n",
       "      <td>936</td>\n",
       "      <td>946</td>\n",
       "      <td>956</td>\n",
       "      <td>966</td>\n",
       "      <td>976</td>\n",
       "      <td>986</td>\n",
       "      <td>996</td>\n",
       "    </tr>\n",
       "    <tr>\n",
       "      <th>7</th>\n",
       "      <td>007</td>\n",
       "      <td>017</td>\n",
       "      <td>027</td>\n",
       "      <td>037</td>\n",
       "      <td>047</td>\n",
       "      <td>057</td>\n",
       "      <td>067</td>\n",
       "      <td>077</td>\n",
       "      <td>087</td>\n",
       "      <td>097</td>\n",
       "      <td>107</td>\n",
       "      <td>117</td>\n",
       "      <td>127</td>\n",
       "      <td>137</td>\n",
       "      <td>147</td>\n",
       "      <td>157</td>\n",
       "      <td>167</td>\n",
       "      <td>177</td>\n",
       "      <td>187</td>\n",
       "      <td>197</td>\n",
       "      <td>207</td>\n",
       "      <td>217</td>\n",
       "      <td>227</td>\n",
       "      <td>237</td>\n",
       "      <td>247</td>\n",
       "      <td>257</td>\n",
       "      <td>267</td>\n",
       "      <td>277</td>\n",
       "      <td>287</td>\n",
       "      <td>297</td>\n",
       "      <td>307</td>\n",
       "      <td>317</td>\n",
       "      <td>327</td>\n",
       "      <td>337</td>\n",
       "      <td>347</td>\n",
       "      <td>357</td>\n",
       "      <td>367</td>\n",
       "      <td>377</td>\n",
       "      <td>387</td>\n",
       "      <td>397</td>\n",
       "      <td>407</td>\n",
       "      <td>417</td>\n",
       "      <td>427</td>\n",
       "      <td>437</td>\n",
       "      <td>447</td>\n",
       "      <td>457</td>\n",
       "      <td>467</td>\n",
       "      <td>477</td>\n",
       "      <td>487</td>\n",
       "      <td>497</td>\n",
       "      <td>507</td>\n",
       "      <td>517</td>\n",
       "      <td>527</td>\n",
       "      <td>537</td>\n",
       "      <td>547</td>\n",
       "      <td>557</td>\n",
       "      <td>567</td>\n",
       "      <td>577</td>\n",
       "      <td>587</td>\n",
       "      <td>597</td>\n",
       "      <td>607</td>\n",
       "      <td>617</td>\n",
       "      <td>627</td>\n",
       "      <td>637</td>\n",
       "      <td>647</td>\n",
       "      <td>657</td>\n",
       "      <td>667</td>\n",
       "      <td>677</td>\n",
       "      <td>687</td>\n",
       "      <td>697</td>\n",
       "      <td>707</td>\n",
       "      <td>717</td>\n",
       "      <td>727</td>\n",
       "      <td>737</td>\n",
       "      <td>747</td>\n",
       "      <td>757</td>\n",
       "      <td>767</td>\n",
       "      <td>777</td>\n",
       "      <td>787</td>\n",
       "      <td>797</td>\n",
       "      <td>807</td>\n",
       "      <td>817</td>\n",
       "      <td>827</td>\n",
       "      <td>837</td>\n",
       "      <td>847</td>\n",
       "      <td>857</td>\n",
       "      <td>867</td>\n",
       "      <td>877</td>\n",
       "      <td>887</td>\n",
       "      <td>897</td>\n",
       "      <td>907</td>\n",
       "      <td>917</td>\n",
       "      <td>927</td>\n",
       "      <td>937</td>\n",
       "      <td>947</td>\n",
       "      <td>957</td>\n",
       "      <td>967</td>\n",
       "      <td>977</td>\n",
       "      <td>987</td>\n",
       "      <td>997</td>\n",
       "    </tr>\n",
       "    <tr>\n",
       "      <th>8</th>\n",
       "      <td>008</td>\n",
       "      <td>018</td>\n",
       "      <td>028</td>\n",
       "      <td>038</td>\n",
       "      <td>048</td>\n",
       "      <td>058</td>\n",
       "      <td>068</td>\n",
       "      <td>078</td>\n",
       "      <td>088</td>\n",
       "      <td>098</td>\n",
       "      <td>108</td>\n",
       "      <td>118</td>\n",
       "      <td>128</td>\n",
       "      <td>138</td>\n",
       "      <td>148</td>\n",
       "      <td>158</td>\n",
       "      <td>168</td>\n",
       "      <td>178</td>\n",
       "      <td>188</td>\n",
       "      <td>198</td>\n",
       "      <td>208</td>\n",
       "      <td>218</td>\n",
       "      <td>228</td>\n",
       "      <td>238</td>\n",
       "      <td>248</td>\n",
       "      <td>258</td>\n",
       "      <td>268</td>\n",
       "      <td>278</td>\n",
       "      <td>288</td>\n",
       "      <td>298</td>\n",
       "      <td>308</td>\n",
       "      <td>318</td>\n",
       "      <td>328</td>\n",
       "      <td>338</td>\n",
       "      <td>348</td>\n",
       "      <td>358</td>\n",
       "      <td>368</td>\n",
       "      <td>378</td>\n",
       "      <td>388</td>\n",
       "      <td>398</td>\n",
       "      <td>408</td>\n",
       "      <td>418</td>\n",
       "      <td>428</td>\n",
       "      <td>438</td>\n",
       "      <td>448</td>\n",
       "      <td>458</td>\n",
       "      <td>468</td>\n",
       "      <td>478</td>\n",
       "      <td>488</td>\n",
       "      <td>498</td>\n",
       "      <td>508</td>\n",
       "      <td>518</td>\n",
       "      <td>528</td>\n",
       "      <td>538</td>\n",
       "      <td>548</td>\n",
       "      <td>558</td>\n",
       "      <td>568</td>\n",
       "      <td>578</td>\n",
       "      <td>588</td>\n",
       "      <td>598</td>\n",
       "      <td>608</td>\n",
       "      <td>618</td>\n",
       "      <td>628</td>\n",
       "      <td>638</td>\n",
       "      <td>648</td>\n",
       "      <td>658</td>\n",
       "      <td>668</td>\n",
       "      <td>678</td>\n",
       "      <td>688</td>\n",
       "      <td>698</td>\n",
       "      <td>708</td>\n",
       "      <td>718</td>\n",
       "      <td>728</td>\n",
       "      <td>738</td>\n",
       "      <td>748</td>\n",
       "      <td>758</td>\n",
       "      <td>768</td>\n",
       "      <td>778</td>\n",
       "      <td>788</td>\n",
       "      <td>798</td>\n",
       "      <td>808</td>\n",
       "      <td>818</td>\n",
       "      <td>828</td>\n",
       "      <td>838</td>\n",
       "      <td>848</td>\n",
       "      <td>858</td>\n",
       "      <td>868</td>\n",
       "      <td>878</td>\n",
       "      <td>888</td>\n",
       "      <td>898</td>\n",
       "      <td>908</td>\n",
       "      <td>918</td>\n",
       "      <td>928</td>\n",
       "      <td>938</td>\n",
       "      <td>948</td>\n",
       "      <td>958</td>\n",
       "      <td>968</td>\n",
       "      <td>978</td>\n",
       "      <td>988</td>\n",
       "      <td>998</td>\n",
       "    </tr>\n",
       "    <tr>\n",
       "      <th>9</th>\n",
       "      <td>009</td>\n",
       "      <td>019</td>\n",
       "      <td>029</td>\n",
       "      <td>039</td>\n",
       "      <td>049</td>\n",
       "      <td>059</td>\n",
       "      <td>069</td>\n",
       "      <td>079</td>\n",
       "      <td>089</td>\n",
       "      <td>099</td>\n",
       "      <td>109</td>\n",
       "      <td>119</td>\n",
       "      <td>129</td>\n",
       "      <td>139</td>\n",
       "      <td>149</td>\n",
       "      <td>159</td>\n",
       "      <td>169</td>\n",
       "      <td>179</td>\n",
       "      <td>189</td>\n",
       "      <td>199</td>\n",
       "      <td>209</td>\n",
       "      <td>219</td>\n",
       "      <td>229</td>\n",
       "      <td>239</td>\n",
       "      <td>249</td>\n",
       "      <td>259</td>\n",
       "      <td>269</td>\n",
       "      <td>279</td>\n",
       "      <td>289</td>\n",
       "      <td>299</td>\n",
       "      <td>309</td>\n",
       "      <td>319</td>\n",
       "      <td>329</td>\n",
       "      <td>339</td>\n",
       "      <td>349</td>\n",
       "      <td>359</td>\n",
       "      <td>369</td>\n",
       "      <td>379</td>\n",
       "      <td>389</td>\n",
       "      <td>399</td>\n",
       "      <td>409</td>\n",
       "      <td>419</td>\n",
       "      <td>429</td>\n",
       "      <td>439</td>\n",
       "      <td>449</td>\n",
       "      <td>459</td>\n",
       "      <td>469</td>\n",
       "      <td>479</td>\n",
       "      <td>489</td>\n",
       "      <td>499</td>\n",
       "      <td>509</td>\n",
       "      <td>519</td>\n",
       "      <td>529</td>\n",
       "      <td>539</td>\n",
       "      <td>549</td>\n",
       "      <td>559</td>\n",
       "      <td>569</td>\n",
       "      <td>579</td>\n",
       "      <td>589</td>\n",
       "      <td>599</td>\n",
       "      <td>609</td>\n",
       "      <td>619</td>\n",
       "      <td>629</td>\n",
       "      <td>639</td>\n",
       "      <td>649</td>\n",
       "      <td>659</td>\n",
       "      <td>669</td>\n",
       "      <td>679</td>\n",
       "      <td>689</td>\n",
       "      <td>699</td>\n",
       "      <td>709</td>\n",
       "      <td>719</td>\n",
       "      <td>729</td>\n",
       "      <td>739</td>\n",
       "      <td>749</td>\n",
       "      <td>759</td>\n",
       "      <td>769</td>\n",
       "      <td>779</td>\n",
       "      <td>789</td>\n",
       "      <td>799</td>\n",
       "      <td>809</td>\n",
       "      <td>819</td>\n",
       "      <td>829</td>\n",
       "      <td>839</td>\n",
       "      <td>849</td>\n",
       "      <td>859</td>\n",
       "      <td>869</td>\n",
       "      <td>879</td>\n",
       "      <td>889</td>\n",
       "      <td>899</td>\n",
       "      <td>909</td>\n",
       "      <td>919</td>\n",
       "      <td>929</td>\n",
       "      <td>939</td>\n",
       "      <td>949</td>\n",
       "      <td>959</td>\n",
       "      <td>969</td>\n",
       "      <td>979</td>\n",
       "      <td>989</td>\n",
       "      <td>999</td>\n",
       "    </tr>\n",
       "  </tbody>\n",
       "</table>"
      ],
      "text/plain": [
       "<IPython.core.display.HTML object>"
      ]
     },
     "metadata": {},
     "output_type": "display_data"
    }
   ],
   "source": [
    "import pandas as pd\n",
    "from IPython.display import display, HTML\n",
    "\n",
    "twoDigitPINs = pd.DataFrame()\n",
    "for a in range(0,10):\n",
    "    for b in range(0,10):\n",
    "        setOfTenPINs = list()\n",
    "        for c in range(0,10):\n",
    "            setOfTenPINs.append(str(a) + str(b) + str(c))\n",
    "        twoDigitPINs.insert(len(twoDigitPINs.columns), \"leading_\"+str(a)+str(b),setOfTenPINs)\n",
    "\n",
    "display(HTML(twoDigitPINs.to_html()))\n",
    "    "
   ]
  },
  {
   "cell_type": "markdown",
   "id": "19dc5c95",
   "metadata": {
    "slideshow": {
     "slide_type": "subslide"
    }
   },
   "source": [
    "### What is a key space?"
   ]
  },
  {
   "cell_type": "markdown",
   "id": "15a2e5b3",
   "metadata": {
    "slideshow": {
     "slide_type": "notes"
    }
   },
   "source": [
    "* So what is a key space? It's the number of possible *keys* given a set of *allowable characters*...\n",
    "* We've been looking at two-digit PINs. The *key space* for a two-digit PIN is made up of *all possible PINs that have exactly 2 digits*.\n",
    "* We determined that there were 100 possible PINs. So the *size* of the two-digit PIN key space is 100. The key space itself consists of all of those 100 PINs...\n",
    "* Just to be clear, when we say *key* we mean \"the particular key in the key space we're looking for.\" In our PIN example, the key is the correct PIN. When we're talking passwords, which contain more than just digits, the key will be \"the correct password.\"...\n",
    "* Finally, there's the matter of *allowable characters*. The terminology here I don't think is always agreed on.\n",
    "* I believe a *character* is pretty much anything you can type in with your keyboard; letters, numbers, and special characters.\n",
    "* You might sometimes hear *alphanumeric* character, which I believe is only numbers and letters - no special symbols.\n",
    "* So when we talk about *allowable characters*, we're talking about all the characters that are considered valid inside a key space.\n",
    "* For our PIN example, the set of allowable characters was the digits 0 through 9...\n",
    "* But passwords often have many more allowable characters. You've probably seen this kind of message when you're creating a new account at some website. Here, the set allowable characters is apparently everything except a percentage character.\n",
    "* Also interesting about this screenshot is that passwords must be \"8 or more characters.\" So the key space for the passwords for this website can be described as \"all the possible passwords of length 8 or greater, made up of any character - except for the percentage sign.\""
   ]
  },
  {
   "cell_type": "markdown",
   "id": "b8cdeef6",
   "metadata": {
    "slideshow": {
     "slide_type": "fragment"
    }
   },
   "source": [
    "*Key space* - The number of possible **keys** given a set of **allowable characters**."
   ]
  },
  {
   "cell_type": "markdown",
   "id": "37dac4c8",
   "metadata": {
    "slideshow": {
     "slide_type": "fragment"
    }
   },
   "source": [
    "*The key space for a two-digit PIN:*"
   ]
  },
  {
   "cell_type": "code",
   "execution_count": 1,
   "id": "91573e89",
   "metadata": {
    "ExecuteTime": {
     "end_time": "2023-04-14T18:09:01.059627Z",
     "start_time": "2023-04-14T18:09:01.025428Z"
    }
   },
   "outputs": [
    {
     "name": "stdout",
     "output_type": "stream",
     "text": [
      "00, 01, 02, 03, 04, 05, 06, 07, 08, 09, 10, 11, 12, 13, 14, 15, 16, 17, 18, 19, 20, 21, 22, 23, 24, 25, 26, 27, 28, 29, 30, 31, 32, 33, 34, 35, 36, 37, 38, 39, 40, 41, 42, 43, 44, 45, 46, 47, 48, 49, 50, 51, 52, 53, 54, 55, 56, 57, 58, 59, 60, 61, 62, 63, 64, 65, 66, 67, 68, 69, 70, 71, 72, 73, 74, 75, 76, 77, 78, 79, 80, 81, 82, 83, 84, 85, 86, 87, 88, 89, 90, 91, 92, 93, 94, 95, 96, 97, 98, 99, "
     ]
    }
   ],
   "source": [
    "# 'a' is the leading digit of the PIN\n",
    "for a in range(0,10):\n",
    "    # 'b' is the second digit of the PIN\n",
    "    for b in range(0,10):\n",
    "        # Print the resulting PIN\n",
    "        print(str(a) + str(b) +\", \", end='')"
   ]
  },
  {
   "cell_type": "markdown",
   "id": "8ed11b1c",
   "metadata": {
    "slideshow": {
     "slide_type": "fragment"
    }
   },
   "source": [
    "*Key* - A PIN, in this example; \"the right answer\"; a password. "
   ]
  },
  {
   "cell_type": "markdown",
   "id": "d0a57a79",
   "metadata": {
    "cell_style": "split",
    "slideshow": {
     "slide_type": "fragment"
    }
   },
   "source": [
    "*Character* - Anything you can type? Letters, numbers, special symbols...  \n",
    "\n",
    "*Allowable characters* - The characters that can exist in a key/PIN/password`."
   ]
  },
  {
   "cell_type": "markdown",
   "id": "050eb20a",
   "metadata": {
    "cell_style": "split",
    "slideshow": {
     "slide_type": "fragment"
    }
   },
   "source": [
    "![Allowable characters](clipart/AllowableCharacters.webp)\n",
    "<!-- https://dumbpasswordrules.com/sites/admiral/ -->"
   ]
  },
  {
   "cell_type": "markdown",
   "id": "b71ab3a0",
   "metadata": {
    "slideshow": {
     "slide_type": "slide"
    }
   },
   "source": [
    "## 2. What is a cryptographic hash?"
   ]
  },
  {
   "cell_type": "markdown",
   "id": "1b3b7aa7",
   "metadata": {
    "slideshow": {
     "slide_type": "notes"
    }
   },
   "source": [
    "* The full term is \"Cryptographic hash function\"...\n",
    "* I've actually had some trouble defining a function. There's a lot of overlap with a mathematical function, but, it's not a complete overlap. So, I'm going to provide an incomplete definition here.\n",
    "* For our purposes here, a function is a computer programming construct that accepts input, and in return produces output. But just know that this is a very narrow definition. I'm sure you know of other \"functions\" that don't fit this definition...\n",
    "* Next, a hash is a function that accepts data of any length and provides in return output data *of a fixed size*.\n",
    "* Simply: \"Data of any length in, data of only 1 length out.\"..."
   ]
  },
  {
   "cell_type": "markdown",
   "id": "a25add69",
   "metadata": {
    "cell_style": "split",
    "slideshow": {
     "slide_type": "fragment"
    }
   },
   "source": [
    "* *Function* - A programming function is a construct that takes data in and provides data in return."
   ]
  },
  {
   "cell_type": "markdown",
   "id": "60a196c6",
   "metadata": {
    "cell_style": "split"
   },
   "source": [
    "![Function diagram](clipart/Function.png)\n",
    "<!-- https://dev.to/navi/why-functional-programming-matters-2o95 -->"
   ]
  },
  {
   "cell_type": "markdown",
   "id": "02c2e531",
   "metadata": {
    "cell_style": "center",
    "slideshow": {
     "slide_type": "fragment"
    }
   },
   "source": [
    "* *Hash* - A type of function that accepts data of any length and produces output of a fixed size."
   ]
  },
  {
   "cell_type": "markdown",
   "id": "eff09d99",
   "metadata": {
    "slideshow": {
     "slide_type": "subslide"
    }
   },
   "source": [
    "*Hash examples:*"
   ]
  },
  {
   "cell_type": "markdown",
   "id": "7ec5626b",
   "metadata": {
    "slideshow": {
     "slide_type": "notes"
    }
   },
   "source": [
    "* We can play around with some of the hash functions that Python supports\n",
    "* Here's a list of all the supported hash functions on my particular Python installation\n",
    "* SHA256, for example, when given an input of only two characters still provides output that's 64 hex characters in length\n",
    "    * Now hex is just a condensed way of displaying lots of bits.\n",
    "* md5, given the same output, produces hex characters\n",
    "* This is still true even when we give the md5 function lots of data input"
   ]
  },
  {
   "cell_type": "code",
   "execution_count": 5,
   "id": "83524998",
   "metadata": {
    "ExecuteTime": {
     "end_time": "2023-04-05T17:23:35.792845Z",
     "start_time": "2023-04-05T17:23:35.782296Z"
    }
   },
   "outputs": [
    {
     "data": {
      "text/plain": [
       "'8b1a9953c4611296a827abf8c47804d7'"
      ]
     },
     "execution_count": 5,
     "metadata": {},
     "output_type": "execute_result"
    }
   ],
   "source": [
    "# https://docs.python.org/3/library/hashlib.html\n",
    "import hashlib\n",
    "\n",
    "#hashlib.algorithms_available\n",
    "# I don't know what this 'b' means!\n",
    "#hashlib.sha256(b\"Hi\").hexdigest()\n",
    "hashlib.md5(b\"Hello\").hexdigest()"
   ]
  },
  {
   "cell_type": "code",
   "execution_count": 6,
   "id": "af683f73",
   "metadata": {
    "ExecuteTime": {
     "end_time": "2023-04-05T17:23:43.877916Z",
     "start_time": "2023-04-05T17:23:43.869156Z"
    }
   },
   "outputs": [
    {
     "data": {
      "text/plain": [
       "32"
      ]
     },
     "execution_count": 6,
     "metadata": {},
     "output_type": "execute_result"
    }
   ],
   "source": [
    "len(_)"
   ]
  },
  {
   "cell_type": "markdown",
   "id": "b575adc6",
   "metadata": {
    "ExecuteTime": {
     "end_time": "2023-04-04T15:29:39.456116Z",
     "start_time": "2023-04-04T15:29:39.445401Z"
    },
    "slideshow": {
     "slide_type": "subslide"
    }
   },
   "source": [
    "**Function** - A programming function is a construct that takes data in and provides data in return.\n",
    "\n",
    "**Hash** - A type of function that accepts data of any size and provides an output value of a fixed size.  \n",
    "\n",
    "**Cryptographic hash** - A hash function with some additional required properties. A cryptographic hash function..."
   ]
  },
  {
   "cell_type": "markdown",
   "id": "a395aad4",
   "metadata": {
    "slideshow": {
     "slide_type": "notes"
    }
   },
   "source": [
    "* So we've covered 'function' and we've covered' hash, but what makes a *hash* a *cryptographic* hash?...\n",
    "* First, it must be *deterministic*. This means that the same data in must always produce the same data out. So if 'abc' goes into a deterministic function, and '123' comes out, you can be assured that 'abc' in will *always* mean '123' out...\n",
    "* Next, a cryptographic hash must be *one-way*. Meaning, you can't go backwards; you can't reverse a hash to see what input was used to produce it.\n",
    "* I'm saying \"you can't\", but we're talking ideally here. One way to reverse a cryptographic hash is to hash every key in a key space, comparing the result for each key to the hash you're holding. You'll know you found the original input when the hashed output matches the has you have. ***computationally infeasible***\n",
    "* A second way is to find some flaw in the hashing algorithm, allowing you to reverse a hash...\n",
    "* Finally, given a small change in input, a cryptographic hash should produce dramatically different output..."
   ]
  },
  {
   "cell_type": "markdown",
   "id": "6a9819f2",
   "metadata": {
    "slideshow": {
     "slide_type": "fragment"
    }
   },
   "source": [
    "1. (A hash should be) Must be *deterministic* - The same data in must always result in the same data out."
   ]
  },
  {
   "cell_type": "markdown",
   "id": "e7c70d1f",
   "metadata": {
    "slideshow": {
     "slide_type": "fragment"
    }
   },
   "source": [
    "2. Must be *one-way* - The output from a cryptographic hash function shouldn't be reversible. (Pre-image resistance)\n",
    "`2.2.` Second pre-image resistance? It should be difficult to find a different input that hashes to the same hash as a second input.  \n",
    "Collision resistence - It should be diffult to find two different messages that hash to the same value."
   ]
  },
  {
   "cell_type": "markdown",
   "id": "09116409",
   "metadata": {
    "slideshow": {
     "slide_type": "fragment"
    }
   },
   "source": [
    "3. Should produce *large changes in output* for even tiny changes in input (A \"nice to have?\")\n",
    "*Length-extension attack?* - Given hash(m) and len(m) (but not 'm), an attacker can calculate `hash(m || m')`, where `||` denotes concatenation. This is problematic when used for message authentication.\n",
    "\n",
    "*According to ChatGPT the three main properties of cryptographic hashes:*\n",
    "* Preimage resistance\n",
    "* Second-preimage resistance\n",
    "* Collision resistance"
   ]
  },
  {
   "cell_type": "markdown",
   "id": "85784214",
   "metadata": {
    "cell_style": "center",
    "slideshow": {
     "slide_type": "subslide"
    }
   },
   "source": [
    "1. **Deterministic?**\n",
    "2. **One-way?**\n",
    "3. **Small changes in input, large changes in output?**"
   ]
  },
  {
   "cell_type": "markdown",
   "id": "a8cd51e4",
   "metadata": {
    "slideshow": {
     "slide_type": "notes"
    }
   },
   "source": [
    "* So lets look at some cryptographic hashes in Python again.\n",
    "* The first time we looked at these I didn't call them cryptographic, and I'm actually not sure if they are all cryptographic. But the SHA-based ones are, as is MD5 - but it is the case the MD5 is considered \"compromised.\"\n",
    "* Give the input of \"Hi\", capital 'H', we see this following output\n",
    "* Change the 'H' to lowercase, we see output that's entirely different.\n",
    "* This is important for maintaining the one-way property of a cryptographic hash, since you wouldn't want an attacker to be able to make small modifications to input to slowly work towards output that matched a target hash."
   ]
  },
  {
   "cell_type": "code",
   "execution_count": 1,
   "id": "6879d4c7",
   "metadata": {
    "ExecuteTime": {
     "end_time": "2023-04-05T15:53:03.687945Z",
     "start_time": "2023-04-05T15:53:03.651019Z"
    },
    "cell_style": "center",
    "slideshow": {
     "slide_type": "-"
    }
   },
   "outputs": [
    {
     "name": "stdout",
     "output_type": "stream",
     "text": [
      "3639efcd08abb273b1619e82e78c29a7df02c1051b1820e99fc395dcaa3326b8\n",
      "8f434346648f6b96df89dda901c5176b10a6d83961dd3c1ac88b59b2dc327aa4\n"
     ]
    },
    {
     "data": {
      "text/plain": [
       "'dd9393a356911e4ccaa23bbe3572625a'"
      ]
     },
     "execution_count": 1,
     "metadata": {},
     "output_type": "execute_result"
    }
   ],
   "source": [
    "# https://docs.python.org/3/library/hashlib.html\n",
    "import hashlib\n",
    "\n",
    "#hashlib.algorithms_available\n",
    "# I don't know what this 'b' means!\n",
    "a = hashlib.sha256(b\"Hi\").hexdigest()\n",
    "b = hashlib.sha256(b\"hi\").hexdigest()\n",
    "#hashlib.md5(b\"Hi\").hexdigest()\n",
    "\n",
    "print(a + \"\\n\" + b)"
   ]
  },
  {
   "cell_type": "markdown",
   "id": "71039703",
   "metadata": {
    "slideshow": {
     "slide_type": "subslide"
    }
   },
   "source": [
    "### Where are cryptographic hashes used?"
   ]
  },
  {
   "cell_type": "markdown",
   "id": "ecfaa569",
   "metadata": {
    "slideshow": {
     "slide_type": "notes"
    }
   },
   "source": [
    "* Some examples of how cryptographic hashes are used...\n",
    "* They can be used to verify that data hasn't been corrupted or tampered with...\n",
    "* I don't know if you've ever come across this yourself, but often when downloading large files, like this Ubuntu ISO for installing Ubuntu, they provider will make hashes of the files available.\n",
    "* Here, you can see at the top of the file listing is a file called SHA256SUMS...\n",
    "* In that file are the SHA-256 sums for three of the large files in this directory...\n",
    "* What you would do is, once you've downloaded the file, you would hash your copy of it, then compare that output with the hash of the file from the website.\n",
    "* As we saw earlier, even the smallest change in input should produce a dramatic change in output. So even if one bit of the file was corrupted during the download. your hash output would be much different than the hash of the original file. In that case you would know to try the download again.\n",
    "* This use of cryptographic hashes is more for data integrity than for security. It's true that if an attacker changed the file on the server its hash wouldn't match the hash of the unmodified file, however, often the list of file hash values it kept along with the files being downloaded themselves. This means it would be trivial for an attacker to modify the target file, then also modify the reported hash of the authentic file."
   ]
  },
  {
   "cell_type": "markdown",
   "id": "402b3d99",
   "metadata": {
    "slideshow": {
     "slide_type": "fragment"
    }
   },
   "source": [
    "***Verify data hasn't been corrupted or tampered with***"
   ]
  },
  {
   "cell_type": "markdown",
   "id": "bf17d337",
   "metadata": {
    "slideshow": {
     "slide_type": "fragment"
    }
   },
   "source": [
    "![Ubuntu verify download 1](clipart/Ubuntu_VerifyDownload_1.png)"
   ]
  },
  {
   "cell_type": "markdown",
   "id": "501b86a1",
   "metadata": {
    "slideshow": {
     "slide_type": "subslide"
    }
   },
   "source": [
    "![Ubuntu verify download 2](clipart/Ubuntu_VerifyDownload_2.png)"
   ]
  },
  {
   "cell_type": "markdown",
   "id": "d6f241e9",
   "metadata": {
    "slideshow": {
     "slide_type": "subslide"
    }
   },
   "source": [
    "![Ubuntu verify download 3](clipart/Ubuntu_VerifyDownload_3.png)"
   ]
  },
  {
   "cell_type": "markdown",
   "id": "141fe331",
   "metadata": {
    "slideshow": {
     "slide_type": "subslide"
    }
   },
   "source": [
    "### Where are cryptographic hashes used?\n",
    "***Digital signatures***"
   ]
  },
  {
   "cell_type": "markdown",
   "id": "9d2a8f1d",
   "metadata": {
    "slideshow": {
     "slide_type": "notes"
    }
   },
   "source": [
    "* Cryptographic hashes are used to digitally sign data, allowing applications and people to be reasonably assured that the data they're seeing came from the expected source, and is the same data that was originally sent.\n",
    "* This is very similar to the file hashing we saw earlier, except now we hash the important data, then encrypt that data along with the hash.\n",
    "* In this scenario the cryptographic hash is used along with public key cryptography...\n",
    "* So very quickly - in public key cryptography there are key pairs which are different, but linked. Any data encrypted by one of the keys can be decrypted by its pair, regardless of whether we're calling the key the \"public\" or the \"private\" one.\n",
    "* Actually, the only difference between a private key and a public key is the private key is the one you keep private.\n",
    "* So here, Alice has some plain text she wants to securely send to Bob. She uses Bob's public key, which is available for anyone to use, and encrypts her plain text.\n",
    "* That encrypted text is sent to Bob. Since only Bob's private key can decrypt data encrypted with his public key, and Bob has kept his private key private, only Bob can decrypt this encrypted data...\n",
    "* But there's a sneaky problem here. Bob's public key is, of course, public. Someone could intercept Alice's encrypted message to Bob, and while that attacker couldn't read the contents, they could create their own message, encrypt it again with Bob's public key, and send that instead. Bob would have no idea that the message he recieved wasn't actually from Alice.\n",
    "* The solution is cryptographic hashes! And, more public key crypto...\n",
    "* To sign her message, Alice now sends the plain text message through a cryptographic hash function - in this case MD5.\n",
    "* Then, she encrypts that hash with her own private key, and adds the result to the end of her plaintext message.\n",
    "* Finally, just like was originally done, she encrypts the whole thing with Bob's public key.\n",
    "* Bob can decrypt the message, he sees the plain text information, but also the encrypted hash...\n",
    "* Because Bob was expecting this, he knows that he should use Alice's public key to decrypt the hash\n",
    "* Next, he takes his own hash of the plain text he recieved (being sure to exclude the appended encrypted hash)\n",
    "* He compares the decrypted hash with his own hash. If they match, he knows the text is the original text, and it was sent by Alice.\n",
    "* Why does he know this? Because Alice's public key decrypted the correct hash, meaning it had to have been her private key that encrypted it. And by convention, we trust that Alice is the only one who has access to her private key.\n",
    "* We know the plain text was the text Alice sent, because our hash of the text matches the unencrypted hash that Alice sent. And one of the properties of a cryptographic hash is that it shouldn't be possible to modify hash input without creating significantly different hash output."
   ]
  },
  {
   "cell_type": "markdown",
   "id": "3c2ed8ae",
   "metadata": {
    "cell_style": "center",
    "slideshow": {
     "slide_type": "fragment"
    }
   },
   "source": [
    "*Public key cryptography* -\n",
    "![Public key cryptography](clipart/PublicKeyCryptoDiagram.gif)\n",
    "<!-- https://www.coengoedegebure.com/surviving-an-infosec-job-interview-cryptography/ -->"
   ]
  },
  {
   "cell_type": "markdown",
   "id": "96651dcf",
   "metadata": {
    "slideshow": {
     "slide_type": "fragment"
    }
   },
   "source": [
    "![Public key signing 1](clipart/PublicKeySigning_1.png)"
   ]
  },
  {
   "cell_type": "markdown",
   "id": "8371886b",
   "metadata": {
    "slideshow": {
     "slide_type": "fragment"
    }
   },
   "source": [
    "![Public key signing 2](clipart/PublicKeySigning_2.png)"
   ]
  },
  {
   "cell_type": "markdown",
   "id": "1ffdd369",
   "metadata": {
    "slideshow": {
     "slide_type": "subslide"
    }
   },
   "source": [
    "### Where are cryptographic hashes used?\n",
    "***Blockchains, like Bitcoin***\n",
    "<!-- https://www.ybrikman.com/writing/2014/04/24/bitcoin-by-analogy/ -->"
   ]
  },
  {
   "cell_type": "markdown",
   "id": "f1972784",
   "metadata": {
    "slideshow": {
     "slide_type": "notes"
    }
   },
   "source": [
    "* My last example of where cryptographic hashes are used is with blockchains, like Bitcoin uses...\n",
    "* Here's a strange problem to consider: If someone made you promise that you would have your computer work very hard for a couple hours, how would you prove that it had done so?\n",
    "* Most cryptographic hashes have two properties that can help us out with this: they're relatively hard to compute, the potential range of output they can produce is ridiculously huge. \n",
    "* Many block-chains that require \"proof-of-work\" take advantage of these two properties...\n",
    "* Bitcoin, for example, requires that Bitcoin miners produce SHA256 hashes repeatedly in attempts to find input values that will produce a hash with a certain number of leading zeros.\n",
    "* The data being hashed consists of hashes from previously computed \"blocks\" (the contents of which I'm not entirely familiar with), and a random number called a \"nonce.\"\n",
    "* Cryptominers modify this random number each time they try a new hash. They're looking for the random number which, when coupled with previously accepted hash values, produce an output hash with a certain number of leading zeros.\n",
    "* This is hard to do, and assuming that SHA256 is a secure hash, there shouldn't be any way to discover what random number will produce a desired output hash. So Bitcoin miners toil away, computing billions of hashes, hoping that they'll be the one to find the magic random number that gets the target number of leading zeros. "
   ]
  },
  {
   "cell_type": "markdown",
   "id": "84a9a3b4",
   "metadata": {
    "slideshow": {
     "slide_type": "fragment"
    }
   },
   "source": [
    "![Bitcoin hashing](clipart/bitcoin_hashing.png)\n",
    "<!-- https://creativedata.stream/bitcoin-proof-of-work/ -->"
   ]
  },
  {
   "cell_type": "code",
   "execution_count": 60,
   "id": "1ce46925",
   "metadata": {
    "ExecuteTime": {
     "end_time": "2023-04-06T19:19:46.180276Z",
     "start_time": "2023-04-06T19:19:46.167569Z"
    }
   },
   "outputs": [
    {
     "name": "stdout",
     "output_type": "stream",
     "text": [
      "1 zeros in a row found\n",
      "5ce05f479f268e8f860b5fa62c88c4ea65d2c9521dc9f696efff4baed4c27cfa\n"
     ]
    }
   ],
   "source": [
    "import hashlib # https://docs.python.org/3/library/hashlib.html\n",
    "import secrets # https://docs.python.org/3/library/secrets.html\n",
    "import re # https://docs.python.org/3/library/re.html\n",
    "\n",
    "prefix_data = \"Very important blockchain information\"\n",
    "\n",
    "nonce = secrets.token_hex(32)\n",
    "\n",
    "trial_plaintext = prefix_data+nonce\n",
    "\n",
    "#print(trial_plaintext)\n",
    "\n",
    "result_hash = hashlib.sha256(trial_plaintext.encode('ascii')).hexdigest()\n",
    "\n",
    "groups_of_zeros = re.findall(r'0+', result_hash)\n",
    "max_consecutive_zeros = max(len(group) for group in groups_of_zeros)\n",
    "\n",
    "print(str(max_consecutive_zeros) + \" zeros in a row found\")\n",
    "print(result_hash)"
   ]
  },
  {
   "cell_type": "markdown",
   "id": "26fcf759",
   "metadata": {
    "slideshow": {
     "slide_type": "subslide"
    }
   },
   "source": [
    "### Where are cryptographic hashes used?\n",
    "***Password verification***\n",
    "..."
   ]
  },
  {
   "cell_type": "markdown",
   "id": "c0edf43a",
   "metadata": {
    "slideshow": {
     "slide_type": "notes"
    }
   },
   "source": [
    "* You almost certainly have accounts at various websites across the internet, and for each of those accounts you set a (hopefully unique!) password.\n",
    "* In order to allow a user to log in you might imagine that the website has a database full of account email addresses and passwords, but this is hopefully never the case. Which brings us to our final bit of Rainbow table background..."
   ]
  },
  {
   "cell_type": "markdown",
   "id": "cd1e4000",
   "metadata": {
    "slideshow": {
     "slide_type": "slide"
    }
   },
   "source": [
    "## 3. How is your account password protected by companies and websites?"
   ]
  },
  {
   "cell_type": "markdown",
   "id": "7d004928",
   "metadata": {
    "slideshow": {
     "slide_type": "notes"
    }
   },
   "source": [
    "* When you sign up for an account at a website, their server-side code will likely take your password and hash it using a cryptographic hash function. The resulting hash is what gets saved to their user database.\n",
    "* Then, every time you log in, the password you provide is again hashed, and it's that hash that's compared to the hash that was stored when you first signed up.\n",
    "* Again, we see how useful the properties of a cryptographic hash are -\n",
    "    * The deterministic nautre of a cryptographic hash means the website can be certain the password you provided when you logged in is the same one you provided when you signed up, even though the website isn't storing your original password.\n",
    "    * The extreme difficulty in reversing a hash means that even if an attacker compromises a website's user database, they won't necessarily have your plain-text password.  \n",
    "    \n",
    "*Now what?*\n",
    "Can I provide them with a list of hashed passwords, and a method for brute forcing them?"
   ]
  },
  {
   "cell_type": "code",
   "execution_count": 5,
   "id": "b9fbbfde",
   "metadata": {
    "ExecuteTime": {
     "end_time": "2023-04-05T16:58:25.713884Z",
     "start_time": "2023-04-05T16:58:25.703758Z"
    }
   },
   "outputs": [
    {
     "data": {
      "text/plain": [
       "'cc25c0f861a83f5efadc6e1ba9d1269e'"
      ]
     },
     "execution_count": 5,
     "metadata": {},
     "output_type": "execute_result"
    }
   ],
   "source": [
    "# https://docs.python.org/3/library/hashlib.html\n",
    "import hashlib\n",
    "\n",
    "#hashlib.algorithms_available\n",
    "# I don't know what this 'b' means!\n",
    "hashlib.md5(b\"monkey123\").hexdigest()"
   ]
  },
  {
   "cell_type": "code",
   "execution_count": 1,
   "id": "d6bdd891",
   "metadata": {
    "ExecuteTime": {
     "end_time": "2023-04-05T17:13:36.965128Z",
     "start_time": "2023-04-05T17:13:36.933340Z"
    }
   },
   "outputs": [
    {
     "data": {
      "application/vnd.jupyter.widget-view+json": {
       "model_id": "bf5647bb35144e13acbdf3f7a4064894",
       "version_major": 2,
       "version_minor": 0
      },
      "text/plain": [
       "Text(value='', description='Input:', placeholder='Type something')"
      ]
     },
     "metadata": {},
     "output_type": "display_data"
    },
    {
     "data": {
      "application/vnd.jupyter.widget-view+json": {
       "model_id": "028d2a3b0b1241f0ad94bfd45d020c28",
       "version_major": 2,
       "version_minor": 0
      },
      "text/plain": [
       "Button(description='Submit', icon='check', style=ButtonStyle(), tooltip='Click to submit')"
      ]
     },
     "metadata": {},
     "output_type": "display_data"
    }
   ],
   "source": [
    "import ipywidgets as widgets\n",
    "from IPython.display import display\n",
    "\n",
    "# Create a Text widget\n",
    "text_input = widgets.Text(\n",
    "    placeholder='Type something',\n",
    "    description='Input:',\n",
    "    disabled=False\n",
    ")\n",
    "\n",
    "# Create a Button widget\n",
    "submit_button = widgets.Button(\n",
    "    description='Submit',\n",
    "    disabled=False,\n",
    "    button_style='', # 'success', 'info', 'warning', 'danger' or ''\n",
    "    tooltip='Click to submit',\n",
    "    icon='check' # (FontAwesome names without the `fa-` prefix)\n",
    ")\n",
    "\n",
    "# Display the Text and Button widgets\n",
    "display(text_input, submit_button)\n",
    "\n",
    "# Define the callback function\n",
    "def on_submit_button_click(button):\n",
    "    user_input = text_input.value\n",
    "    print(f'User input: {user_input}')\n",
    "\n",
    "# Link the callback function to the button's 'on_click' event\n",
    "submit_button.on_click(on_submit_button_click)\n"
   ]
  },
  {
   "cell_type": "markdown",
   "id": "d50786b6",
   "metadata": {
    "slideshow": {
     "slide_type": "slide"
    }
   },
   "source": [
    "# The motivation behind Rainbow tables"
   ]
  },
  {
   "cell_type": "markdown",
   "id": "5d104f22",
   "metadata": {},
   "source": [
    "* What we last discussed - about the user databases of websites not holding actualy passwords, but instead password hashes - can help explain the motivation for Rainbow tables, which I still haven't discussed yet.\n",
    "* The news is filled with stories of companies losing control of their user databases to hackers, and if you've ever had an account with one of these companies, you've probably recieved the advice that you should reset your password.\n",
    "* But why, if these databases didn't actually contain your password, and the hashes that they did contain were generated by a secure cryptographic hash?\n",
    "* This is because it is possible to reverse hashes - that is, discover the plain text that generated a particular cryptographic hash - and that's through brute force."
   ]
  },
  {
   "cell_type": "code",
   "execution_count": 18,
   "id": "18fad674",
   "metadata": {
    "ExecuteTime": {
     "end_time": "2023-04-06T17:49:24.146983Z",
     "start_time": "2023-04-06T17:49:24.137783Z"
    }
   },
   "outputs": [
    {
     "name": "stdout",
     "output_type": "stream",
     "text": [
      "Password: b'abc'\n",
      "Hashed: 900150983cd24fb0d6963f7d28e17f72\n"
     ]
    }
   ],
   "source": [
    "# https://docs.python.org/3/library/hashlib.html\n",
    "import hashlib\n",
    "\n",
    "plaintext_password = b\"abc\"\n",
    "hashed_password = hashlib.md5(plaintext_password).hexdigest()\n",
    "\n",
    "print(\"Password: \" + str(plaintext_password))\n",
    "print(\"Hashed: \" + hashed_password)\n"
   ]
  },
  {
   "cell_type": "code",
   "execution_count": 17,
   "id": "89887317",
   "metadata": {
    "ExecuteTime": {
     "end_time": "2023-04-06T17:22:09.371923Z",
     "start_time": "2023-04-06T17:22:09.314661Z"
    }
   },
   "outputs": [
    {
     "name": "stdout",
     "output_type": "stream",
     "text": [
      "Found a match! abc\n"
     ]
    }
   ],
   "source": [
    "import string\n",
    "\n",
    "for a in string.ascii_lowercase:\n",
    "    for b in string.ascii_lowercase:\n",
    "        for c in string.ascii_lowercase:\n",
    "            if hashed_password == hashlib.md5((a+b+c).encode('ascii')).hexdigest():\n",
    "                print(\"Found a match! \" + a + b + c)"
   ]
  },
  {
   "cell_type": "markdown",
   "id": "15c336e8",
   "metadata": {
    "slideshow": {
     "slide_type": "notes"
    }
   },
   "source": [
    "* What made finding the plain text so easy here?\n",
    "* Certainly the password was short, but we also had the advantage of knowing that the password was only three characters long, and lower case only.\n",
    "* Maybe not as obvious, we also knew the hash was an MD5 hash. You might be able to guess which hashing function was used just by looking at a hash, but it's not guarenteed. If you mistake a RIPEMD-256 hash for an SHA-256 hash, your brute forcing attempts will never turn up the correct plaintext.\n",
    "* So lets go back to this real-world example..."
   ]
  },
  {
   "cell_type": "markdown",
   "id": "c32e910d",
   "metadata": {
    "slideshow": {
     "slide_type": "subslide"
    }
   },
   "source": [
    "![Allowable characters](clipart/AllowableCharacters.webp)\n",
    "<!-- https://dumbpasswordrules.com/sites/admiral/ -->"
   ]
  },
  {
   "cell_type": "markdown",
   "id": "5f19198b",
   "metadata": {
    "slideshow": {
     "slide_type": "notes"
    }
   },
   "source": [
    "* Consider the key space of passwords from this user database:\n",
    "    * 8 characters or more\n",
    "    * Lower- and upper-case letters\n",
    "    * Special characters, just not '%'\n",
    "* a-z, A-Z, 0-9, and ~`!@#$^&*()_+=- (and probably more, this is just from the top row of my keyboard)\n",
    "* So lets see what it would take to brute force *just* all the 8 character passwords\n",
    "* a-z = 26\n",
    "* A-Z = 26\n",
    "* 0-9 = 10\n",
    "* Special characters = 15\n",
    "* Total: 77\n",
    "* To brute force a hashed password from this user database"
   ]
  },
  {
   "cell_type": "code",
   "execution_count": 23,
   "id": "24794a78",
   "metadata": {
    "ExecuteTime": {
     "end_time": "2023-04-06T18:49:43.268210Z",
     "start_time": "2023-04-06T18:49:43.258503Z"
    }
   },
   "outputs": [
    {
     "data": {
      "text/plain": [
       "99"
      ]
     },
     "execution_count": 23,
     "metadata": {},
     "output_type": "execute_result"
    }
   ],
   "source": [
    "# https://docs.python.org/3/library/string.html\n",
    "import string\n",
    "\n",
    "len(string.printable.replace('%', \"\", 1))"
   ]
  },
  {
   "cell_type": "code",
   "execution_count": null,
   "id": "c8c59647",
   "metadata": {},
   "outputs": [],
   "source": []
  }
 ],
 "metadata": {
  "kernelspec": {
   "display_name": "Python 3 (ipykernel)",
   "language": "python",
   "name": "python3"
  },
  "language_info": {
   "codemirror_mode": {
    "name": "ipython",
    "version": 3
   },
   "file_extension": ".py",
   "mimetype": "text/x-python",
   "name": "python",
   "nbconvert_exporter": "python",
   "pygments_lexer": "ipython3",
   "version": "3.9.16"
  }
 },
 "nbformat": 4,
 "nbformat_minor": 5
}
