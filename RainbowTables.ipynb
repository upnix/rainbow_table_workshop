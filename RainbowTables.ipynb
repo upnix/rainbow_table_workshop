{
 "cells": [
  {
   "cell_type": "markdown",
   "id": "4ea7948d-5577-4c79-882b-dc7760d6760a",
   "metadata": {},
   "source": [
    "# Key spaces"
   ]
  },
  {
   "cell_type": "code",
   "execution_count": 1,
   "id": "8b71cae6-59f0-4c87-b637-e6a5bbce3c5f",
   "metadata": {},
   "outputs": [
    {
     "data": {
      "application/vnd.jupyter.widget-view+json": {
       "model_id": "64f1904c112b4e92a379e9947844e27d",
       "version_major": 2,
       "version_minor": 0
      },
      "text/plain": [
       "Tab(children=(VBox(children=(HBox(children=(VBox(children=(Label(value='Maximum key length for the key space?'…"
      ]
     },
     "metadata": {},
     "output_type": "display_data"
    },
    {
     "name": "stdout",
     "output_type": "stream",
     "text": [
      "Your defined key space:\n"
     ]
    },
    {
     "data": {
      "application/vnd.jupyter.widget-view+json": {
       "model_id": "8599f4dccbe444a78584359019a51983",
       "version_major": 2,
       "version_minor": 0
      },
      "text/plain": [
       "Output(layout=Layout(border_bottom='1px solid black', border_left='1px solid black', border_right='1px solid b…"
      ]
     },
     "metadata": {},
     "output_type": "display_data"
    }
   ],
   "source": [
    "from Key_Space_Widgets import ks_display, ks_get_keyspace\n",
    "ks_display()"
   ]
  },
  {
   "cell_type": "markdown",
   "id": "a88a9625-874f-46ad-8d84-3965ace56a72",
   "metadata": {},
   "source": [
    "# Hashing algorithms"
   ]
  },
  {
   "cell_type": "code",
   "execution_count": 2,
   "id": "4c46f00b-efbc-4bb2-a7d9-2b7a0d23318a",
   "metadata": {},
   "outputs": [
    {
     "data": {
      "application/vnd.jupyter.widget-view+json": {
       "model_id": "5119f9db751c40c79794a2422d54781e",
       "version_major": 2,
       "version_minor": 0
      },
      "text/plain": [
       "Tab(children=(VBox(children=(HBox(children=(VBox(children=(Label(value='Enter text to hash'), Text(value='', p…"
      ]
     },
     "metadata": {},
     "output_type": "display_data"
    }
   ],
   "source": [
    "from Hash_Widgets import hash_display\n",
    "hash_display()"
   ]
  },
  {
   "cell_type": "markdown",
   "id": "65ba1a4c-e30b-4b91-9b38-58479e40680f",
   "metadata": {},
   "source": [
    "# Searching for hashed keys"
   ]
  },
  {
   "cell_type": "code",
   "execution_count": 3,
   "id": "d030c9b4-39e0-4904-8b66-c174d79edab0",
   "metadata": {},
   "outputs": [
    {
     "data": {
      "application/vnd.jupyter.widget-view+json": {
       "model_id": "dd8ca9435e1d49288f97fb42ce9b584e",
       "version_major": 2,
       "version_minor": 0
      },
      "text/plain": [
       "Tab(children=(VBox(children=(HBox(children=(VBox(children=(Label(value='Maximum key length for the key space?'…"
      ]
     },
     "metadata": {},
     "output_type": "display_data"
    },
    {
     "data": {
      "application/vnd.jupyter.widget-view+json": {
       "model_id": "376ff5bd2aab4b4690fc8fe049d4f62a",
       "version_major": 2,
       "version_minor": 0
      },
      "text/plain": [
       "HBox(children=(Output(layout=Layout(border_bottom='1px solid black', border_left='1px solid black', border_rig…"
      ]
     },
     "metadata": {},
     "output_type": "display_data"
    },
    {
     "data": {
      "application/vnd.jupyter.widget-view+json": {
       "model_id": "aeb49d976c83414eb07177f8ca433e80",
       "version_major": 2,
       "version_minor": 0
      },
      "text/plain": [
       "Output(layout=Layout(border_bottom='1px solid black', border_left='1px solid black', border_right='1px solid b…"
      ]
     },
     "metadata": {},
     "output_type": "display_data"
    },
    {
     "data": {
      "application/vnd.jupyter.widget-view+json": {
       "model_id": "18164427ca004f5dabc2b59b7287605f",
       "version_major": 2,
       "version_minor": 0
      },
      "text/plain": [
       "Button(description='Start search', style=ButtonStyle())"
      ]
     },
     "metadata": {},
     "output_type": "display_data"
    },
    {
     "data": {
      "application/vnd.jupyter.widget-view+json": {
       "model_id": "312ce3d62b34413cb8db09e42e2397c2",
       "version_major": 2,
       "version_minor": 0
      },
      "text/plain": [
       "Output(layout=Layout(border_bottom='1px solid black', border_left='1px solid black', border_right='1px solid b…"
      ]
     },
     "metadata": {},
     "output_type": "display_data"
    }
   ],
   "source": [
    "from Hash_Search_Widgets import hs_display\n",
    "hs_display()"
   ]
  },
  {
   "cell_type": "markdown",
   "id": "8cb978fe-fcdb-4afc-a881-4bd6de772d2c",
   "metadata": {},
   "source": [
    "## What does a saved hash table look like?"
   ]
  },
  {
   "cell_type": "code",
   "execution_count": 4,
   "id": "b7b70de5-2fc9-427a-aa4c-483d737da370",
   "metadata": {
    "tags": []
   },
   "outputs": [
    {
     "name": "stdout",
     "output_type": "stream",
     "text": [
      "qqqqq: 437599f1ea3514f8969f161a6606ce18\n",
      "qqqqa: 62196ded90ffa3c9ab3fd8e5408e6951\n",
      "qqqqu: 9f1081289359afa79d1edc0ff3c87f92\n",
      "qqqqg: fe5df9c39c91f446d306bf30ee4013d0\n",
      "qqqqv: 5a7950150906b2885b6c620d53ca08b1\n",
      "qqqq3: 12d450374b843803f42da5f17b77d839\n",
      "qqqqn: 5db294c978c4b12e9fa235f6a9ac8630\n",
      "qqqqf: e9d675a592fb9ca05afeee0d45aefaa6\n",
      "qqqqx: 01bc27240b0306aec84d3a5114a1ed83\n",
      "qqqqo: a59e1d0c2c82fdcb571793536b0659d4\n",
      "qqqqj: 0ca140bc993130b498f264f7599101c0\n",
      "qqqqm: 028903f96d7f8a1a383506f744fd7dae\n",
      "qqqqi: 26c13315c78a896a0b7f1104e83ac73f\n",
      "qqqq2: cb53afdbb2e4f2ae345b27a82363cf26\n",
      "qqqq7: b9bd98f0d6770a96ee46eb7b2202ad31\n",
      "qqqq5: 085339505a5aeedd570cedaa94373f89\n",
      "qqqqp: 977ef34c4b9147c67f2a77814875fab1\n",
      "qqqq0: 3929c521cf70311fa80df5b4ed6bff26\n",
      "qqqq4: a2812afc03712b8d0d5d1c29198d46b8\n",
      "qqqqb: bbdea6e8773fc7013cb3bb6f7b1d12a4\n"
     ]
    }
   ],
   "source": [
    "from RainbowTables import HashSearch\n",
    "hashsearch = HashSearch(ks_get_keyspace(), 'md5')\n",
    "hashsearch.save_hashed_keyspace(size = 20)\n",
    "for key, digest in hashsearch.key_hash_dict.items():\n",
    "    print(f'{key}: {digest}')"
   ]
  },
  {
   "cell_type": "markdown",
   "id": "6ab6ed4b-025e-481b-b3e6-1fb8b38a9cd8",
   "metadata": {},
   "source": [
    "# Rainbow tables - A time-space trade-off"
   ]
  },
  {
   "cell_type": "markdown",
   "id": "5c79aecf-a42d-4aeb-9c78-9611127b6eea",
   "metadata": {},
   "source": [
    "* Once a key space was saved, it was quicker to search. But saving that table takes a lot of storage space.\n",
    "* But regenerating the key space and hashing each key every time you want to search for a hash is slow."
   ]
  },
  {
   "cell_type": "markdown",
   "id": "172ee906-027c-42ab-b7a0-055bc5e6d400",
   "metadata": {},
   "source": [
    "## Reduction function"
   ]
  },
  {
   "cell_type": "markdown",
   "id": "1e64aa36-dda4-4a48-a2d0-a2ea83d6027f",
   "metadata": {},
   "source": [
    "```python\n",
    "def hash_to_key(hash_digest, salt, key_length, allowable_chars):\n",
    "    hash_in_binary = str()\n",
    "\n",
    "    for c in hash_digest:\n",
    "        hash_in_binary += bin(ord(c))[2:].zfill(8)\n",
    "        \n",
    "    binary_chunks = int(len(hash_in_binary)/key_length)\n",
    "    key_from_hash = str()\n",
    "    for i in range(0, key_length):\n",
    "        left_bound = i*binary_chunks\n",
    "        right_bound = (i+1)*binary_chunks\n",
    "        if i == (key_length-1):\n",
    "            right_bound = len(hash_in_binary)\n",
    "        list_pos = int(hash_in_binary[left_bound:right_bound], 2)%len(allowable_chars)\n",
    "        key_from_hash += allowable_chars[list_pos]\n",
    "        \n",
    "    return key_from_hash\n",
    "\n",
    "```"
   ]
  },
  {
   "cell_type": "markdown",
   "id": "67353289-8b85-4998-8954-64f52a9e826e",
   "metadata": {},
   "source": [
    "### Creating a chain with a hash -> hash reduction"
   ]
  },
  {
   "cell_type": "code",
   "execution_count": 5,
   "id": "2aa218d6-77a4-48ff-aa38-d1b703813919",
   "metadata": {},
   "outputs": [],
   "source": [
    "from HashReductionChain_Widgets import hash_reduce_chain_display"
   ]
  },
  {
   "cell_type": "code",
   "execution_count": 6,
   "id": "48f61e97-af21-4309-be46-fc14131d5ff8",
   "metadata": {},
   "outputs": [
    {
     "data": {
      "application/vnd.jupyter.widget-view+json": {
       "model_id": "aa532baf853d4094bbef6b9603cf1992",
       "version_major": 2,
       "version_minor": 0
      },
      "text/plain": [
       "HBox(children=(VBox(children=(Button(description='Generate key', layout=Layout(width='200px'), style=ButtonSty…"
      ]
     },
     "metadata": {},
     "output_type": "display_data"
    }
   ],
   "source": [
    "#from HashReductionChain_Widgets import hash_reduce_chain_display\n",
    "hash_reduce_chain_display()"
   ]
  },
  {
   "cell_type": "markdown",
   "id": "e320e793-5c95-4e38-9697-6d0f837b0d0b",
   "metadata": {},
   "source": [
    "## A table of 10 chains, and an unusual searching method"
   ]
  },
  {
   "cell_type": "code",
   "execution_count": 7,
   "id": "5c3d078c-9fa8-4f8b-8520-31d2dee4b28b",
   "metadata": {},
   "outputs": [
    {
     "data": {
      "application/vnd.jupyter.widget-view+json": {
       "model_id": "5e102c6debd7434ebe867b87eeafc329",
       "version_major": 2,
       "version_minor": 0
      },
      "text/plain": [
       "VBox(children=(HTML(value=''), Output(layout=Layout(border_bottom='1px solid black', border_left='1px solid bl…"
      ]
     },
     "metadata": {},
     "output_type": "display_data"
    }
   ],
   "source": [
    "from RB_Table_Search import display_rb_table, display_table_search\n",
    "\n",
    "display_rb_table()"
   ]
  },
  {
   "cell_type": "code",
   "execution_count": 8,
   "id": "45b96ca1-55a8-4407-b45a-71d2165996bf",
   "metadata": {
    "tags": []
   },
   "outputs": [
    {
     "data": {
      "application/vnd.jupyter.widget-view+json": {
       "model_id": "b3bb18a17a8744cfbaa92792537da241",
       "version_major": 2,
       "version_minor": 0
      },
      "text/plain": [
       "HBox(children=(VBox(children=(Label(value='Key/digest to start your search from'), Text(value='', placeholder=…"
      ]
     },
     "metadata": {},
     "output_type": "display_data"
    },
    {
     "data": {
      "application/vnd.jupyter.widget-view+json": {
       "model_id": "5bd7779d71584860ae18fd70123ea757",
       "version_major": 2,
       "version_minor": 0
      },
      "text/plain": [
       "RadioButtons(index=1, options=('Start from key (Left-to-right)', 'Start from hash (right-to-left)'), value='St…"
      ]
     },
     "metadata": {},
     "output_type": "display_data"
    }
   ],
   "source": [
    "display_table_search()"
   ]
  },
  {
   "cell_type": "markdown",
   "id": "f7846a63-c9f2-44d3-b207-6480dc1b202b",
   "metadata": {},
   "source": [
    "## But we still don't know the plain text key!"
   ]
  },
  {
   "cell_type": "markdown",
   "id": "7a868d77-219f-4b85-9585-cc424f07e2b6",
   "metadata": {},
   "source": [
    "But we do know of a row in the Rainbow Table, and that with a certain number of reduce/hash cycles that start with our target hash that we get a result that's in the last row of the above table.\n",
    "\n",
    "You know what we've also kept? The first column in the Rainbow table - the plain-text key that kicked off the particular chain."
   ]
  },
  {
   "cell_type": "markdown",
   "id": "86bd415b-ff12-4900-9b5f-1bba41507cc8",
   "metadata": {},
   "source": [
    "### Reduce/Hash iterations starting from the left"
   ]
  },
  {
   "cell_type": "code",
   "execution_count": null,
   "id": "e7f48200-544e-4d9e-b6f6-e6970322f9cf",
   "metadata": {},
   "outputs": [],
   "source": []
  }
 ],
 "metadata": {
  "kernelspec": {
   "display_name": "Python 3 (ipykernel)",
   "language": "python",
   "name": "python3"
  },
  "language_info": {
   "codemirror_mode": {
    "name": "ipython",
    "version": 3
   },
   "file_extension": ".py",
   "mimetype": "text/x-python",
   "name": "python",
   "nbconvert_exporter": "python",
   "pygments_lexer": "ipython3",
   "version": "3.9.16"
  }
 },
 "nbformat": 4,
 "nbformat_minor": 5
}
